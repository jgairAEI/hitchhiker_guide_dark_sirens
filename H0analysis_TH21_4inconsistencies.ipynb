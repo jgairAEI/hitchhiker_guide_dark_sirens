{
 "cells": [
  {
   "cell_type": "code",
   "execution_count": 17,
   "id": "8a8b4683-cd2a-441c-a6c0-abdf9113645e",
   "metadata": {},
   "outputs": [],
   "source": [
    "from gal4H0 import *\n",
    "true_cosmology = FlatLambdaCDM(H0=70.,Om0=0.25)\n",
    "zcut_rate=1.4"
   ]
  },
  {
   "cell_type": "markdown",
   "id": "bb98da5b-e11a-43be-8e8c-b446661ef1c0",
   "metadata": {},
   "source": [
    "## Incosistency 1: $z^4$\n",
    "\n",
    "We study the bias on $H_0$ when GW events are distributed as $p_{\\rm cat}(z)^2$ while in the analysis we just account for $p_{\\rm cat}(z)$. "
   ]
  },
  {
   "cell_type": "code",
   "execution_count": 18,
   "id": "ba7f4b72-5c51-422c-9bd3-527c2ce04265",
   "metadata": {},
   "outputs": [
    {
     "name": "stdout",
     "output_type": "stream",
     "text": [
      "MICECAT_LOS/micecat_455.csv\n"
     ]
    },
    {
     "name": "stderr",
     "output_type": "stream",
     "text": [
      "100%|██████████████████████████████████████████████████████████████████████████████████████████████████████████| 48028/48028 [09:10<00:00, 87.27it/s]\n"
     ]
    },
    {
     "name": "stdout",
     "output_type": "stream",
     "text": [
      "0.1\n",
      "You detected 2929 binaries out of 100000 simulated\n"
     ]
    },
    {
     "name": "stderr",
     "output_type": "stream",
     "text": [
      "200it [00:00, 321.82it/s]\n",
      "Running on GW events: 200it [04:47,  1.44s/it]\n"
     ]
    },
    {
     "name": "stdout",
     "output_type": "stream",
     "text": [
      "0.2\n",
      "You detected 3244 binaries out of 100000 simulated\n"
     ]
    },
    {
     "name": "stderr",
     "output_type": "stream",
     "text": [
      "200it [00:00, 268.78it/s]\n",
      "Running on GW events: 200it [03:33,  1.07s/it]\n"
     ]
    },
    {
     "name": "stdout",
     "output_type": "stream",
     "text": [
      "0.3\n",
      "You detected 4260 binaries out of 100000 simulated\n"
     ]
    },
    {
     "name": "stderr",
     "output_type": "stream",
     "text": [
      "200it [00:00, 447.79it/s]\n",
      "Running on GW events: 200it [03:15,  1.02it/s]\n"
     ]
    }
   ],
   "source": [
    "LOSf=['MICECAT_LOS/micecat_455.csv']\n",
    "\n",
    "sigmas=[0.1,0.2,0.3]\n",
    "Ngw=1000000\n",
    "zcut_rate=1.4\n",
    "dl_thr=1550\n",
    "H0_array=np.linspace(40,120,200)\n",
    "\n",
    "posteriors={'H0_grid':H0_array}\n",
    "\n",
    "np.random.seed(0) # Reset the random seed\n",
    "for ilos in LOSf:\n",
    "    print(ilos)\n",
    "    galaxies_list = np.genfromtxt(ilos,skip_header=1)\n",
    "\n",
    "    sigmaz=0.013*np.power(1+galaxies_list,3.)\n",
    "    sigmaz[sigmaz>0.015]=0.015\n",
    "    z_obs=np.random.randn(len(galaxies_list))*sigmaz+galaxies_list\n",
    "    zinterpo,zinterpolant=build_interpolant(z_obs,sigmaz,zcut_rate)\n",
    "    \n",
    "    for sigma in sigmas:\n",
    "        print(sigma)\n",
    "        sigma_dl=sigma\n",
    "        gw_obs_dl,gw_true_dl,gw_redshift,std_dl=draw_gw_events(10000,sigma_dl,dl_thr,galaxies_list,true_cosmology,zcut_rate)        \n",
    "        pextra=np.exp(zinterpo(gw_redshift))\n",
    "        idxextra=np.random.choice(len(pextra),size=200,p=pextra/pextra.sum())\n",
    "        gw_obs_dl,gw_true_dl,gw_redshift,std_dl=gw_obs_dl[idxextra],gw_true_dl[idxextra],gw_redshift[idxextra],std_dl[idxextra]\n",
    "        posterior_matrix,combined=galaxy_catalog_analysis_photo_redshift(H0_array,zinterpo,gw_obs_dl,sigma_dl,dl_thr)\n",
    "        \n",
    "        posteriors[ilos+'_'+str(sigma)+'_'+'signle']=posterior_matrix\n",
    "        posteriors[ilos+'_'+str(sigma)+'_'+'combined']=combined\n"
   ]
  },
  {
   "cell_type": "code",
   "execution_count": 19,
   "id": "8c4a4bc7-b096-4707-8b22-c0d7d95ef55f",
   "metadata": {},
   "outputs": [
    {
     "name": "stdout",
     "output_type": "stream",
     "text": [
      "MICECAT_LOS/micecat_455.csv\n"
     ]
    },
    {
     "name": "stderr",
     "output_type": "stream",
     "text": [
      "100%|█████████████████████████████████████████████████████████████████████████████████████████████████████████| 48028/48028 [06:15<00:00, 127.87it/s]\n"
     ]
    },
    {
     "name": "stdout",
     "output_type": "stream",
     "text": [
      "0.1\n",
      "You detected 200 binaries out of 100000 simulated\n"
     ]
    },
    {
     "name": "stderr",
     "output_type": "stream",
     "text": [
      "200it [00:00, 493.97it/s]\n",
      "Running on GW events: 200it [04:22,  1.31s/it]\n"
     ]
    },
    {
     "name": "stdout",
     "output_type": "stream",
     "text": [
      "0.2\n",
      "You detected 200 binaries out of 100000 simulated\n"
     ]
    },
    {
     "name": "stderr",
     "output_type": "stream",
     "text": [
      "200it [00:00, 508.58it/s]\n",
      "Running on GW events: 200it [05:04,  1.52s/it]\n"
     ]
    },
    {
     "name": "stdout",
     "output_type": "stream",
     "text": [
      "0.3\n",
      "You detected 200 binaries out of 100000 simulated\n"
     ]
    },
    {
     "name": "stderr",
     "output_type": "stream",
     "text": [
      "200it [00:00, 523.33it/s]\n",
      "Running on GW events: 200it [05:04,  1.52s/it]\n"
     ]
    }
   ],
   "source": [
    "# We generate multiple H0 posterior for 200 events, different LOS and dl errors\n",
    "\n",
    "LOSf=['MICECAT_LOS/micecat_455.csv']\n",
    "\n",
    "sigmas=[0.1,0.2,0.3]\n",
    "Ngw=200\n",
    "zcut_rate=1.4\n",
    "dl_thr=1550\n",
    "H0_array=np.linspace(40,120,200)\n",
    "\n",
    "posteriors_2={'H0_grid':H0_array}\n",
    "np.random.seed(0) # Reset the random seed\n",
    "for ilos in LOSf:\n",
    "    print(ilos)\n",
    "    galaxies_list = np.genfromtxt(ilos,skip_header=1)\n",
    "\n",
    "    sigmaz=0.013*np.power(1+galaxies_list,3.)\n",
    "    sigmaz[sigmaz>0.015]=0.015\n",
    "    z_obs=np.random.randn(len(galaxies_list))*sigmaz+galaxies_list\n",
    "    zinterpo,zinterpolant=build_interpolant(z_obs,sigmaz,zcut_rate)\n",
    "    \n",
    "    for sigma in sigmas:\n",
    "        print(sigma)\n",
    "        sigma_dl=sigma\n",
    "        gw_obs_dl,_,_,std_dl=draw_gw_events(Ngw,sigma_dl,dl_thr,galaxies_list,true_cosmology,zcut_rate)\n",
    "        posterior_matrix,combined=galaxy_catalog_analysis_photo_redshift_TH21(H0_array,zinterpo,gw_obs_dl,sigma_dl,dl_thr)\n",
    "        \n",
    "        posteriors_2[ilos+'_'+str(sigma)+'_'+'signle']=posterior_matrix\n",
    "        posteriors_2[ilos+'_'+str(sigma)+'_'+'combined']=combined\n"
   ]
  },
  {
   "cell_type": "code",
   "execution_count": 20,
   "id": "d2d721a1-52ee-48b6-924a-f023a065266a",
   "metadata": {},
   "outputs": [
    {
     "name": "stdout",
     "output_type": "stream",
     "text": [
      "MICECAT_LOS/micecat_455.csv\n"
     ]
    },
    {
     "name": "stderr",
     "output_type": "stream",
     "text": [
      "100%|████████████████████████████████████████████████████████████████████████████████████████████████████| 48028/48028 [1:00:13<00:00, 13.29it/s]\n"
     ]
    },
    {
     "name": "stdout",
     "output_type": "stream",
     "text": [
      "0.1\n",
      "You detected 200 binaries out of 100000 simulated\n"
     ]
    },
    {
     "name": "stderr",
     "output_type": "stream",
     "text": [
      "200it [00:00, 266.28it/s]\n",
      "Running on GW events: 200it [04:51,  1.46s/it]\n"
     ]
    },
    {
     "name": "stdout",
     "output_type": "stream",
     "text": [
      "0.2\n",
      "You detected 200 binaries out of 100000 simulated\n"
     ]
    },
    {
     "name": "stderr",
     "output_type": "stream",
     "text": [
      "200it [00:00, 262.40it/s]\n",
      "Running on GW events: 200it [05:12,  1.56s/it]\n"
     ]
    },
    {
     "name": "stdout",
     "output_type": "stream",
     "text": [
      "0.3\n",
      "You detected 200 binaries out of 100000 simulated\n"
     ]
    },
    {
     "name": "stderr",
     "output_type": "stream",
     "text": [
      "200it [00:00, 247.02it/s]\n",
      "Running on GW events: 200it [09:41,  2.91s/it]\n"
     ]
    }
   ],
   "source": [
    "LOSf=['MICECAT_LOS/micecat_455.csv']\n",
    "\n",
    "sigmas=[0.1,0.2,0.3]\n",
    "Ngw=200\n",
    "dl_thr=1550\n",
    "H0_array=np.linspace(40,120,200)\n",
    "\n",
    "posteriors_3={'H0_grid':H0_array}\n",
    "\n",
    "np.random.seed(0) # Reset the random seed\n",
    "for ilos in LOSf:\n",
    "    print(ilos)\n",
    "    galaxies_list = np.genfromtxt(ilos,skip_header=1)\n",
    "\n",
    "    sigmaz=0.013*np.power(1+galaxies_list,3.)\n",
    "    sigmaz[sigmaz>0.015]=0.015\n",
    "    z_obs=np.random.randn(len(galaxies_list))*sigmaz+galaxies_list\n",
    "    zinterpo,zinterpolant=build_interpolant(z_obs,sigmaz,1.4)\n",
    "    \n",
    "    for sigma in sigmas:\n",
    "        print(sigma)\n",
    "        sigma_dl=sigma\n",
    "        gw_obs_dl,gw_true_dl,gw_redshift,std_dl=draw_gw_events(Ngw,sigma_dl,dl_thr,galaxies_list,true_cosmology,0.3)        \n",
    "        posterior_matrix,combined=galaxy_catalog_analysis_photo_redshift(H0_array,zinterpo,gw_obs_dl,sigma_dl,dl_thr)\n",
    "        \n",
    "        posteriors_3[ilos+'_'+str(sigma)+'_'+'signle']=posterior_matrix\n",
    "        posteriors_3[ilos+'_'+str(sigma)+'_'+'combined']=combined\n"
   ]
  },
  {
   "cell_type": "code",
   "execution_count": 21,
   "id": "e4046bfa-a961-4f7d-b765-d107e4711881",
   "metadata": {},
   "outputs": [
    {
     "name": "stdout",
     "output_type": "stream",
     "text": [
      "MICECAT_LOS/micecat_901.csv\n"
     ]
    },
    {
     "name": "stderr",
     "output_type": "stream",
     "text": [
      "100%|██████████████████████████████████████████████████████████████████████████████████████████████████████████| 944/944 [00:10<00:00, 86.39it/s]\n"
     ]
    },
    {
     "name": "stdout",
     "output_type": "stream",
     "text": [
      "0.1\n",
      "You detected 200 binaries out of 100000 simulated\n"
     ]
    },
    {
     "name": "stderr",
     "output_type": "stream",
     "text": [
      "200it [00:00, 508.03it/s]\n",
      "Running on GW events: 200it [03:11,  1.04it/s]\n"
     ]
    },
    {
     "name": "stdout",
     "output_type": "stream",
     "text": [
      "0.2\n",
      "You detected 200 binaries out of 100000 simulated\n"
     ]
    },
    {
     "name": "stderr",
     "output_type": "stream",
     "text": [
      "200it [00:00, 484.46it/s]\n",
      "Running on GW events: 200it [03:06,  1.07it/s]\n"
     ]
    },
    {
     "name": "stdout",
     "output_type": "stream",
     "text": [
      "0.3\n",
      "You detected 200 binaries out of 100000 simulated\n"
     ]
    },
    {
     "name": "stderr",
     "output_type": "stream",
     "text": [
      "200it [00:00, 521.09it/s]\n",
      "Running on GW events: 200it [03:17,  1.01it/s]\n"
     ]
    }
   ],
   "source": [
    "LOSf=['MICECAT_LOS/micecat_901.csv']\n",
    "\n",
    "sigmas=[0.1,0.2,0.3]\n",
    "Ngw=200\n",
    "dl_thr=1550\n",
    "H0_array=np.linspace(40,120,200)\n",
    "\n",
    "posteriors_4={'H0_grid':H0_array}\n",
    "\n",
    "np.random.seed(0) # Reset the random seed\n",
    "for ilos in LOSf:\n",
    "    print(ilos)\n",
    "    galaxies_list = np.genfromtxt(ilos,skip_header=1)\n",
    "\n",
    "    sigmaz=0.013*np.power(1+galaxies_list,3.)\n",
    "    sigmaz[sigmaz>0.015]=0.015\n",
    "    z_obs=np.random.randn(len(galaxies_list))*sigmaz+galaxies_list\n",
    "    zinterpo,zinterpolant=build_interpolant(z_obs,sigmaz,1.4)\n",
    "    \n",
    "    for sigma in sigmas:\n",
    "        print(sigma)\n",
    "        sigma_dl=sigma\n",
    "        gw_obs_dl,gw_true_dl,gw_redshift,std_dl=draw_gw_events(Ngw,sigma_dl,dl_thr,galaxies_list,true_cosmology,zcut_rate)        \n",
    "        posterior_matrix,combined=galaxy_catalog_analysis_photo_redshift_GWlikelihood_inconsistency(H0_array,zinterpo,gw_obs_dl,sigma_dl,dl_thr)\n",
    "        \n",
    "        posteriors_4[ilos+'_'+str(sigma)+'_'+'signle']=posterior_matrix\n",
    "        posteriors_4[ilos+'_'+str(sigma)+'_'+'combined']=combined\n"
   ]
  },
  {
   "cell_type": "code",
   "execution_count": 31,
   "id": "e3fbd717-9b71-4711-932c-a9ac8f3220e8",
   "metadata": {},
   "outputs": [
    {
     "data": {
      "image/png": "[encoded data removed]",
      "text/plain": [
       "<Figure size 252x648 with 4 Axes>"
      ]
     },
     "metadata": {
      "needs_background": "light"
     },
     "output_type": "display_data"
    }
   ],
   "source": [
    "fig, ax= plt.subplots(4,1,figsize=(3.5,9),sharex=True)\n",
    "\n",
    "ilos='MICECAT_LOS/micecat_455.csv'\n",
    "sigmas=[0.1,0.2,0.3]\n",
    "\n",
    "labels_2=[r'$\\sigma_{d_L}/d_L=10\\%$',\n",
    "         r'$\\sigma_{d_L}/d_L=20\\%$',\n",
    "         r'$\\sigma_{d_L}/d_L=30\\%$']\n",
    "\n",
    "lines=['solid','--',':']\n",
    "\n",
    "for i,sigma in enumerate(sigmas):\n",
    "    ax[0].plot(H0_array,posteriors[ilos+'_'+str(sigma)+'_'+'combined'],ls=lines[i],label=labels_2[i],c=pal[0])\n",
    "    ax[1].plot(H0_array,posteriors_2[ilos+'_'+str(sigma)+'_'+'combined'],ls=lines[i],label=labels_2[i],c=pal[1])\n",
    "    ax[2].plot(H0_array,posteriors_3[ilos+'_'+str(sigma)+'_'+'combined'],ls=lines[i],label=labels_2[i],c=pal[2])\n",
    "    ax[3].plot(H0_array,posteriors_4['MICECAT_LOS/micecat_901.csv_'+str(sigma)+'_'+'combined'],ls=lines[i],label=labels_2[i],c=pal[3])\n",
    "\n",
    "    \n",
    "ax[0].set_ylabel(r'Posterior ${\\rm[km^{-1} \\,s \\,Mpc]}$')\n",
    "ax[0].set_title('Inconsistency 1: Double counting')\n",
    "\n",
    "ax[1].set_ylabel(r'Posterior ${\\rm[km^{-1} \\,s \\,Mpc]}$')\n",
    "ax[1].set_title('Inconsistency 2: GW detection probability')\n",
    "ax[1].set_ylim(0,0.4)\n",
    "\n",
    "ax[2].set_ylabel(r'Posterior ${\\rm[km^{-1} \\,s \\,Mpc]}$')\n",
    "ax[2].set_title(r'Inconsistency 3: $z_{\\rm draw}$ not accounted')\n",
    "ax[2].set_xlabel(r'$H_0 {\\rm[km \\,s^{-1} \\,Mpc^{-1}]}$')\n",
    "\n",
    "ax[3].set_ylabel(r'Posterior ${\\rm[km^{-1} \\,s \\,Mpc]}$')\n",
    "ax[3].set_title(r'Inconsistency 4: GW likelihood')\n",
    "ax[3].set_xlabel(r'$H_0 {\\rm[km \\,s^{-1} \\,Mpc^{-1}]}$')\n",
    "ax[3].set_ylim(0,0.4)\n",
    "\n",
    "plt.tight_layout()\n",
    "plt.savefig('figures_paper/inconsistencies_4.pdf')\n",
    "\n",
    "\n"
   ]
  },
  {
   "cell_type": "code",
   "execution_count": null,
   "id": "e517e956-0994-49d5-87cd-a0f10a0bfbc9",
   "metadata": {},
   "outputs": [],
   "source": []
  }
 ],
 "metadata": {
  "kernelspec": {
   "display_name": "Python 3 (ipykernel)",
   "language": "python",
   "name": "python3"
  },
  "language_info": {
   "codemirror_mode": {
    "name": "ipython",
    "version": 3
   },
   "file_extension": ".py",
   "mimetype": "text/x-python",
   "name": "python",
   "nbconvert_exporter": "python",
   "pygments_lexer": "ipython3",
   "version": "3.9.5"
  }
 },
 "nbformat": 4,
 "nbformat_minor": 5
}
